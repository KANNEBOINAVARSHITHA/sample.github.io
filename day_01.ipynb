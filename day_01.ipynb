{
  "nbformat": 4,
  "nbformat_minor": 0,
  "metadata": {
    "colab": {
      "provenance": [],
      "authorship_tag": "ABX9TyMV1bWjto8spQAZQMUEZjhc",
      "include_colab_link": true
    },
    "kernelspec": {
      "name": "python3",
      "display_name": "Python 3"
    },
    "language_info": {
      "name": "python"
    }
  },
  "cells": [
    {
      "cell_type": "markdown",
      "metadata": {
        "id": "view-in-github",
        "colab_type": "text"
      },
      "source": [
        "<a href=\"https://colab.research.google.com/github/KANNEBOINAVARSHITHA/sample.github.io/blob/main/day_01.ipynb\" target=\"_parent\"><img src=\"https://colab.research.google.com/assets/colab-badge.svg\" alt=\"Open In Colab\"/></a>"
      ]
    },
    {
      "cell_type": "code",
      "source": [
        "a=5\n",
        "b=4.6\n",
        "c=a+5j\n",
        "name='Varshitha'\n",
        "d='a'\n",
        "print(a,type(a))\n",
        "print(b,type(b))\n",
        "print(c,type(c))\n",
        "print(name,type(name))\n",
        "print(d,type(d))"
      ],
      "metadata": {
        "colab": {
          "base_uri": "https://localhost:8080/"
        },
        "id": "hM6VoiUp5f79",
        "outputId": "6f3b9d96-3f8f-40fc-9f6b-7ff5ff34fc79"
      },
      "execution_count": null,
      "outputs": [
        {
          "output_type": "stream",
          "name": "stdout",
          "text": [
            "5 <class 'int'>\n",
            "4.6 <class 'float'>\n",
            "(5+5j) <class 'complex'>\n",
            "Varshitha <class 'str'>\n",
            "a <class 'str'>\n"
          ]
        }
      ]
    },
    {
      "cell_type": "markdown",
      "source": [
        "### Datatypes"
      ],
      "metadata": {
        "id": "V4qCw6q3Mp8g"
      }
    },
    {
      "cell_type": "code",
      "source": [
        "list=[1,2,3,'hello','a',3,5.6]\n",
        "print(list,type(list))"
      ],
      "metadata": {
        "colab": {
          "base_uri": "https://localhost:8080/"
        },
        "id": "ZljvF9hD_VuT",
        "outputId": "5b4b68ef-f158-47b9-c23b-2bc087da821c"
      },
      "execution_count": null,
      "outputs": [
        {
          "output_type": "stream",
          "name": "stdout",
          "text": [
            "[1, 2, 3, 'hello', 'a', 3, 5.6] <class 'list'>\n"
          ]
        }
      ]
    },
    {
      "cell_type": "code",
      "source": [
        "tuple=(1,3,5,\"hello\",5,5.2,'a')\n",
        "print(tuple,type(tuple))"
      ],
      "metadata": {
        "colab": {
          "base_uri": "https://localhost:8080/"
        },
        "id": "bYXeyVNPAMn3",
        "outputId": "30207f97-499c-401c-a291-f3759ba2c65d"
      },
      "execution_count": null,
      "outputs": [
        {
          "output_type": "stream",
          "name": "stdout",
          "text": [
            "(1, 3, 5, 'hello', 5, 5.2, 'a') <class 'tuple'>\n"
          ]
        }
      ]
    },
    {
      "cell_type": "code",
      "source": [
        "set={3,9,18,24,3,9}\n",
        "print(set,type(set))"
      ],
      "metadata": {
        "colab": {
          "base_uri": "https://localhost:8080/"
        },
        "id": "i_A6e6MPBCE1",
        "outputId": "e4bb7ae7-029a-4d58-af4b-2005058f2ea9"
      },
      "execution_count": null,
      "outputs": [
        {
          "output_type": "stream",
          "name": "stdout",
          "text": [
            "{24, 9, 18, 3} <class 'set'>\n"
          ]
        }
      ]
    },
    {
      "cell_type": "code",
      "source": [
        "dictonary={101:'varsha',102:'varsha',103:'varshitha'}\n",
        "print(dictonary,type(dictonary))"
      ],
      "metadata": {
        "colab": {
          "base_uri": "https://localhost:8080/"
        },
        "id": "XvC2uUGfBjTN",
        "outputId": "43cb0980-6314-401c-c60a-ba040f9bc8b6"
      },
      "execution_count": null,
      "outputs": [
        {
          "output_type": "stream",
          "name": "stdout",
          "text": [
            "{101: 'varsha', 102: 'varsha', 103: 'varshitha'} <class 'dict'>\n"
          ]
        }
      ]
    },
    {
      "cell_type": "code",
      "source": [
        "none=None\n",
        "print(none,type(none))"
      ],
      "metadata": {
        "colab": {
          "base_uri": "https://localhost:8080/"
        },
        "id": "u5pSFm2wChBt",
        "outputId": "6de601c5-bed3-4389-87d3-640e70a0df27"
      },
      "execution_count": null,
      "outputs": [
        {
          "output_type": "stream",
          "name": "stdout",
          "text": [
            "None <class 'NoneType'>\n"
          ]
        }
      ]
    },
    {
      "cell_type": "code",
      "source": [
        "#arithmetic operators\n",
        "a=5\n",
        "b=2\n",
        "print(a+b,a-b,a*b,a/b,a//b,a%b,a**b)"
      ],
      "metadata": {
        "colab": {
          "base_uri": "https://localhost:8080/"
        },
        "id": "8t6lHHAPEPfF",
        "outputId": "563ecce2-ec17-445f-9c97-e37f325c46ec"
      },
      "execution_count": null,
      "outputs": [
        {
          "output_type": "stream",
          "name": "stdout",
          "text": [
            "7 3 10 2.5 2 1 25\n"
          ]
        }
      ]
    },
    {
      "cell_type": "code",
      "source": [
        "#relational operators\n",
        "#comparison operators\n",
        "a=7\n",
        "b=2\n",
        "c=\"abc\"\n",
        "print(a<b,a>b,a<=b,a>=b,a!=b,a==c)"
      ],
      "metadata": {
        "colab": {
          "base_uri": "https://localhost:8080/"
        },
        "id": "BtTwTOAAF3l7",
        "outputId": "8353b321-95b8-47ee-cadd-6c9a44928c8a"
      },
      "execution_count": null,
      "outputs": [
        {
          "output_type": "stream",
          "name": "stdout",
          "text": [
            "False True False True True False\n"
          ]
        }
      ]
    },
    {
      "cell_type": "code",
      "source": [
        "#assignment operators\n",
        "a=7\n",
        "b=3\n",
        "#b+=a#-->b=b+a\n",
        "#b-=a#-->b=b-a\n",
        "#b*=a#-->b=b*a\n",
        "#b/=a#-->b=b/a\n",
        "#b//=a#-->b=b//a\n",
        "b**=a\n",
        "print(b,type(b))"
      ],
      "metadata": {
        "colab": {
          "base_uri": "https://localhost:8080/"
        },
        "id": "h08qr-LCIPV0",
        "outputId": "bea4a9cd-4d46-4569-8791-055d9d2c8c62"
      },
      "execution_count": null,
      "outputs": [
        {
          "output_type": "stream",
          "name": "stdout",
          "text": [
            "2187 <class 'int'>\n"
          ]
        }
      ]
    },
    {
      "cell_type": "code",
      "source": [
        "#logical operators\n",
        "print(5<6 and 6<7)\n",
        "print(5<6 or 6<7)\n",
        "print(not(5<6 and 6<7))"
      ],
      "metadata": {
        "colab": {
          "base_uri": "https://localhost:8080/"
        },
        "id": "ABlrB3iNKY0N",
        "outputId": "5faa0b6a-e833-47b0-9fc3-4e561ee9179a"
      },
      "execution_count": null,
      "outputs": [
        {
          "output_type": "stream",
          "name": "stdout",
          "text": [
            "True\n",
            "True\n",
            "False\n"
          ]
        }
      ]
    },
    {
      "cell_type": "code",
      "source": [
        "a=7\n",
        "b=5\n",
        "c=6\n",
        "print(a+b+c)\n",
        "a=1\n",
        "b=8\n",
        "print(a+b)"
      ],
      "metadata": {
        "colab": {
          "base_uri": "https://localhost:8080/"
        },
        "id": "lms9qlMkOnSn",
        "outputId": "f83db5d8-a9b5-4289-ed55-06f82c9f730d"
      },
      "execution_count": null,
      "outputs": [
        {
          "output_type": "stream",
          "name": "stdout",
          "text": [
            "18\n",
            "9\n"
          ]
        }
      ]
    },
    {
      "cell_type": "code",
      "source": [
        "def sum_of_digits_until_single(number):\n",
        "    while number >= 10:\n",
        "        digit_sum = 0\n",
        "        while number > 0:\n",
        "            digit_sum += number % 10\n",
        "            number //= 10\n",
        "        number = digit_sum\n",
        "    return number\n",
        "num = int(input(\"Enter a number: \"))\n",
        "result = sum_of_digits_until_single(num)\n",
        "print(f\"The single-digit sum is: {result}\")\n"
      ],
      "metadata": {
        "colab": {
          "base_uri": "https://localhost:8080/"
        },
        "id": "Mv-bVTpZPr_s",
        "outputId": "446f6b96-2550-4bbe-b356-724f9aac5d2f"
      },
      "execution_count": null,
      "outputs": [
        {
          "output_type": "stream",
          "name": "stdout",
          "text": [
            "Enter a number: 756\n",
            "The single-digit sum is: 9\n"
          ]
        }
      ]
    },
    {
      "cell_type": "markdown",
      "source": [
        "### Bitwise operators\n"
      ],
      "metadata": {
        "id": "bsBamm9Jv3Tz"
      }
    },
    {
      "cell_type": "code",
      "source": [
        "#compliment\n",
        "a=7\n",
        "print(~a)\n",
        "print(bin(a))"
      ],
      "metadata": {
        "colab": {
          "base_uri": "https://localhost:8080/"
        },
        "id": "lqs8XswmvE6-",
        "outputId": "5f5eca40-ee8f-47ca-fe9d-22c299f88c9e"
      },
      "execution_count": null,
      "outputs": [
        {
          "output_type": "stream",
          "name": "stdout",
          "text": [
            "-8\n",
            "0b111\n"
          ]
        }
      ]
    },
    {
      "cell_type": "code",
      "source": [
        "#bitwise and,or,xor,left shift,right shift\n",
        "print(5&6)\n",
        "print(5|6)\n",
        "print(5^6)\n",
        "print(5<<3)\n",
        "print(50>>2)"
      ],
      "metadata": {
        "colab": {
          "base_uri": "https://localhost:8080/"
        },
        "id": "ivSWnYORyVPV",
        "outputId": "82a1860a-8d4b-413f-efcf-5a42bc2b1e36"
      },
      "execution_count": null,
      "outputs": [
        {
          "output_type": "stream",
          "name": "stdout",
          "text": [
            "4\n",
            "7\n",
            "3\n",
            "40\n",
            "12\n"
          ]
        }
      ]
    },
    {
      "cell_type": "code",
      "source": [
        "#identity operators\n",
        "#compares the actual data and type\n",
        "a=5\n",
        "b=5\n",
        "c=int('5')\n",
        "print(id(a),id(c))\n",
        "print(id(a),id(b))\n",
        "print(a is c)\n",
        "print(a is not b)"
      ],
      "metadata": {
        "colab": {
          "base_uri": "https://localhost:8080/"
        },
        "id": "IWGLnbB_yjk_",
        "outputId": "7d73ae81-b404-4288-a72a-a96e3e2deee3"
      },
      "execution_count": null,
      "outputs": [
        {
          "output_type": "stream",
          "name": "stdout",
          "text": [
            "139252708016496 139252708016496\n",
            "139252708016496 139252708016496\n",
            "True\n",
            "False\n"
          ]
        }
      ]
    },
    {
      "cell_type": "code",
      "source": [
        "#range (start,end,stop)\n",
        "a=list(range(0,100,2))#explicit conversion from range to list\n",
        "b=list(range(1,100,2))\n",
        "print(a)\n",
        "print(b)"
      ],
      "metadata": {
        "colab": {
          "base_uri": "https://localhost:8080/"
        },
        "id": "wVM_0tLe45tX",
        "outputId": "9bb75360-5f17-4bd6-8984-500e746c864c"
      },
      "execution_count": null,
      "outputs": [
        {
          "output_type": "stream",
          "name": "stdout",
          "text": [
            "[0, 2, 4, 6, 8, 10, 12, 14, 16, 18, 20, 22, 24, 26, 28, 30, 32, 34, 36, 38, 40, 42, 44, 46, 48, 50, 52, 54, 56, 58, 60, 62, 64, 66, 68, 70, 72, 74, 76, 78, 80, 82, 84, 86, 88, 90, 92, 94, 96, 98]\n",
            "[1, 3, 5, 7, 9, 11, 13, 15, 17, 19, 21, 23, 25, 27, 29, 31, 33, 35, 37, 39, 41, 43, 45, 47, 49, 51, 53, 55, 57, 59, 61, 63, 65, 67, 69, 71, 73, 75, 77, 79, 81, 83, 85, 87, 89, 91, 93, 95, 97, 99]\n"
          ]
        }
      ]
    }
  ]
}